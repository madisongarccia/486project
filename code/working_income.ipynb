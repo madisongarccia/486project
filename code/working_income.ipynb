{
 "cells": [
  {
   "cell_type": "markdown",
   "metadata": {},
   "source": [
    "Load Packages"
   ]
  },
  {
   "cell_type": "code",
   "execution_count": 2,
   "metadata": {},
   "outputs": [],
   "source": [
    "import pandas as pd\n",
    "import matplotlib.pyplot as plt\n",
    "import numpy as np\n",
    "import seaborn as sns"
   ]
  },
  {
   "cell_type": "markdown",
   "metadata": {},
   "source": [
    "Load Data"
   ]
  },
  {
   "cell_type": "code",
   "execution_count": 41,
   "metadata": {},
   "outputs": [],
   "source": [
    "df = pd.read_excel(\"/Users/madisonwozniak/Desktop/STAT486/final_project/original_data/food_affordability.xls\", sheet_name=\"Food_afford_cdp_co_region_ca\")\n",
    "df = df.drop(df.index[-1]) # remove last row because it is not part of the data"
   ]
  },
  {
   "cell_type": "markdown",
   "metadata": {},
   "source": [
    "# Feature Engineering"
   ]
  },
  {
   "cell_type": "code",
   "execution_count": 42,
   "metadata": {},
   "outputs": [],
   "source": [
    "# make factors \n",
    "df['region_code'] = df['region_code'].astype('category')\n",
    "df['race_eth_code'] = df['race_eth_code'].astype('category')\n",
    "df['geotypevalue'] = df['geotypevalue'].astype('category')\n",
    "df['county_fips'] = df['county_fips'].astype('category')"
   ]
  },
  {
   "cell_type": "markdown",
   "metadata": {},
   "source": [
    "Create features with zip code and lat/lon"
   ]
  },
  {
   "cell_type": "code",
   "execution_count": 43,
   "metadata": {},
   "outputs": [
    {
     "name": "stderr",
     "output_type": "stream",
     "text": [
      "/var/folders/8f/l9_yqvn54_ldh6kclbdcgvfh0000gn/T/ipykernel_49542/73613974.py:19: SettingWithCopyWarning: \n",
      "A value is trying to be set on a copy of a slice from a DataFrame.\n",
      "Try using .loc[row_indexer,col_indexer] = value instead\n",
      "\n",
      "See the caveats in the documentation: https://pandas.pydata.org/pandas-docs/stable/user_guide/indexing.html#returning-a-view-versus-a-copy\n",
      "  features_to_join['county_name'] = features_to_join['primary_city']\n"
     ]
    }
   ],
   "source": [
    "all_zipcodes = pd.read_csv('zip_code_database.csv')\n",
    "\n",
    "# names of all counties in the dataset\n",
    "counties = ['Alameda', 'Alpine', 'Amador', 'Butte', 'Calaveras', 'Colusa',\n",
    "       'Contra Costa', 'Del Norte', 'El Dorado', 'Fresno', 'Glenn',\n",
    "       'Humboldt', 'Imperial', 'Inyo', 'Kern', 'Kings', 'Lake', 'Lassen',\n",
    "       'Los Angeles', 'Madera', 'Marin', 'Mariposa', 'Mendocino',\n",
    "       'Merced', 'Modoc', 'Mono', 'Monterey', 'Napa', 'Nevada', 'Orange',\n",
    "       'Placer', 'Plumas', 'Riverside', 'Sacramento', 'San Benito',\n",
    "       'San Bernardino', 'San Diego', 'San Francisco', 'San Joaquin',\n",
    "       'San Luis Obispo', 'San Mateo', 'Santa Barbara', 'Santa Clara',\n",
    "       'Santa Cruz', 'Shasta', 'Sierra', 'Siskiyou', 'Solano', 'Sonoma',\n",
    "       'Stanislaus', 'Sutter', 'Tehama', 'Trinity', 'Tulare', 'Tuolumne',\n",
    "       'Ventura', 'Yolo', 'Yuba']\n",
    "\n",
    "# match my counties with those in the zipcode database\n",
    "city_zipcodes = all_zipcodes[all_zipcodes['primary_city'].isin(counties)]\n",
    "features_to_join = city_zipcodes[['latitude', 'longitude', 'primary_city']]\n",
    "features_to_join['county_name'] = features_to_join['primary_city']\n",
    "features_to_join = features_to_join.drop('primary_city', axis = 1)\n",
    "\n",
    "# merge datasets\n",
    "df = pd.merge(df, features_to_join, on = 'county_name', how = 'outer')"
   ]
  },
  {
   "cell_type": "code",
   "execution_count": 44,
   "metadata": {},
   "outputs": [],
   "source": [
    "# get all the numeric/categorical features together \n",
    "numeric_predictors = df.select_dtypes(include=['number']).drop('affordability_ratio', axis = 1) # df\n",
    "numeric_predictors = numeric_predictors.drop(numeric_predictors.filter(regex='^is').columns, axis=1)\n",
    "numeric_predictors = numeric_predictors.drop(columns = 'CA_RR_Affordability')\n",
    "num_pred_names = numeric_predictors.columns\n",
    "\n",
    "categorical_predictors = df.select_dtypes(include=['object', 'category']) # df\n",
    "dummy_vars = df.filter(regex='^is')  # assuming dummy variables start with \"is\"\n",
    "categorical_predictors = pd.concat([categorical_predictors, dummy_vars], axis=1)\n",
    "cat_pred_names = categorical_predictors.columns\n",
    "\n",
    "# consistent types for numeric columns\n",
    "df[num_pred_names] = df[num_pred_names].apply(pd.to_numeric, errors='coerce')\n",
    "# consistent types for categorical columns\n",
    "df[cat_pred_names] = df[cat_pred_names].astype(str)"
   ]
  },
  {
   "cell_type": "markdown",
   "metadata": {},
   "source": [
    "household-level affordability"
   ]
  },
  {
   "cell_type": "code",
   "execution_count": 45,
   "metadata": {},
   "outputs": [],
   "source": [
    "df['affordability_per_person'] = df['affordability_ratio'] / df['ave_fam_size']"
   ]
  },
  {
   "cell_type": "markdown",
   "metadata": {},
   "source": [
    "Final dataframe to csv"
   ]
  },
  {
   "cell_type": "code",
   "execution_count": 46,
   "metadata": {},
   "outputs": [],
   "source": [
    "df.to_csv('final_data.csv', index = False)"
   ]
  },
  {
   "cell_type": "markdown",
   "metadata": {},
   "source": [
    "# Supervised Machine Learning Models"
   ]
  },
  {
   "cell_type": "code",
   "execution_count": 53,
   "metadata": {},
   "outputs": [],
   "source": [
    "from sklearn.linear_model import Lasso, LinearRegression, Ridge\n",
    "from sklearn.metrics import root_mean_squared_error\n",
    "from sklearn.model_selection import GridSearchCV, cross_val_score, train_test_split\n",
    "from sklearn.impute import SimpleImputer\n",
    "from sklearn.neighbors import KNeighborsRegressor\n",
    "from sklearn.pipeline import Pipeline\n",
    "from sklearn.preprocessing import OneHotEncoder, StandardScaler, PolynomialFeatures\n",
    "from sklearn.feature_selection import SelectPercentile, f_regression\n",
    "from sklearn.compose import ColumnTransformer\n",
    "from sklearn.tree import DecisionTreeRegressor\n",
    "from sklearn.ensemble import GradientBoostingRegressor\n",
    "from xgboost.sklearn import XGBRegressor"
   ]
  },
  {
   "cell_type": "markdown",
   "metadata": {},
   "source": [
    "### Data Preparation"
   ]
  },
  {
   "cell_type": "code",
   "execution_count": 48,
   "metadata": {},
   "outputs": [],
   "source": [
    "df['median_income'] = df['median_income'].fillna(df['median_income'].mean()) # make sure response has no NAs\n",
    "\n",
    "# get my X and Y matrices\n",
    "X = df.drop(columns = ['median_income', 'version', 'ind_id', 'ind_definition', 'reportyear'])\n",
    "y = df['median_income']"
   ]
  },
  {
   "cell_type": "code",
   "execution_count": 49,
   "metadata": {},
   "outputs": [],
   "source": [
    "# extract only the column names for each type\n",
    "numeric_features = X.select_dtypes(include = ['number']).columns\n",
    "categorical_features = X.select_dtypes(include = ['object']).columns"
   ]
  },
  {
   "cell_type": "code",
   "execution_count": 50,
   "metadata": {},
   "outputs": [],
   "source": [
    "X_train, X_test, y_train, y_test = train_test_split(X, y, random_state=307) # split the data\n",
    "\n",
    "# make transformers for each data type\n",
    "numeric_transformer = Pipeline(steps=[\n",
    "    ('imputer', SimpleImputer(strategy='mean')),  \n",
    "    ('poly', PolynomialFeatures(include_bias=False)),\n",
    "    ('scaler', StandardScaler())                  \n",
    "])\n",
    "categorical_transformer = Pipeline(steps=[\n",
    "    ('imputer', SimpleImputer(strategy='most_frequent')),  \n",
    "    ('onehot', OneHotEncoder(handle_unknown='ignore')),\n",
    "    ('filtering', SelectPercentile(f_regression, percentile=50))     \n",
    "])\n",
    "\n",
    "# run both through the preprocessor\n",
    "preprocessor = ColumnTransformer(\n",
    "    transformers=[\n",
    "        ('num', numeric_transformer, numeric_features),      \n",
    "        ('cat', categorical_transformer, categorical_features)  \n",
    "    ])"
   ]
  },
  {
   "cell_type": "code",
   "execution_count": 51,
   "metadata": {},
   "outputs": [],
   "source": [
    "# may need to use samples for testing out some models\n",
    "X_train_sample = X_train.sample(n=50000, random_state=42)\n",
    "y_train_sample = y_train.loc[X_train_sample.index]\n",
    "\n",
    "# scaling response - do this to full train/test when I am done with the samples\n",
    "scaler = StandardScaler()\n",
    "y_train_scaled = scaler.fit_transform(y_train_sample.values.reshape(-1, 1))\n",
    "y_test_scaled = scaler.transform(y_test.values.reshape(-1, 1))\n",
    "\n",
    "# taking the log of income may make most sense\n",
    "y_train_log = np.log1p(y_train_sample)\n",
    "y_test_log = np.log1p(y_test)\n"
   ]
  },
  {
   "cell_type": "code",
   "execution_count": 52,
   "metadata": {},
   "outputs": [
    {
     "name": "stdout",
     "output_type": "stream",
     "text": [
      "food_afford_decile          0.881916\n",
      "longitude                   0.003219\n",
      "latitude                   -0.051667\n",
      "cost_yr                    -0.053089\n",
      "ave_fam_size               -0.083369\n",
      "rse_food_afford            -0.241342\n",
      "se_food_afford             -0.282512\n",
      "LL95_affordability_ratio   -0.325106\n",
      "UL95_affordability_ratio   -0.327396\n",
      "affordability_ratio        -0.789804\n",
      "CA_RR_Affordability        -0.789804\n",
      "affordability_per_person   -0.798263\n",
      "dtype: float64\n"
     ]
    }
   ],
   "source": [
    "# looking at how my predictors are correlated with the response \n",
    "numeric_X_train = X_train_sample.select_dtypes(include=['number'])\n",
    "corr = numeric_X_train.corrwith(y_train_log)\n",
    "print(corr.sort_values(ascending=False))"
   ]
  },
  {
   "cell_type": "markdown",
   "metadata": {},
   "source": [
    "### KNeighbors Regressor"
   ]
  },
  {
   "cell_type": "code",
   "execution_count": 14,
   "metadata": {},
   "outputs": [
    {
     "name": "stdout",
     "output_type": "stream",
     "text": [
      "0.0015055189271422165\n"
     ]
    }
   ],
   "source": [
    "# sample KNN Regressor\n",
    "pipe = Pipeline(steps=[\n",
    "    ('preprocessor', preprocessor),\n",
    "    ('model', KNeighborsRegressor(n_neighbors=5, weights='distance'))  \n",
    "])\n",
    "pipe.fit(X_train_sample, y_train_log)\n",
    "y_test_pred = pipe.predict(X_test)\n",
    "test_mse = root_mean_squared_error(y_test_log, y_test_pred)\n",
    "print(test_mse) #0.020348175708673553"
   ]
  },
  {
   "cell_type": "markdown",
   "metadata": {},
   "source": [
    "### Linear Regression"
   ]
  },
  {
   "cell_type": "code",
   "execution_count": 56,
   "metadata": {},
   "outputs": [
    {
     "name": "stdout",
     "output_type": "stream",
     "text": [
      "0.06189138986827383\n"
     ]
    }
   ],
   "source": [
    "# sample Linear Regression - log\n",
    "lr_pipe = Pipeline(steps=[\n",
    "    ('preprocessor', preprocessor),\n",
    "    ('model', LinearRegression())  \n",
    "])\n",
    "lr_pipe.fit(X_train_sample, y_train_log)\n",
    "y_test_pred = lr_pipe.predict(X_test)\n",
    "test_mse = root_mean_squared_error(y_test_log, y_test_pred)\n",
    "print(test_mse) # 0.06189138986827383\n"
   ]
  },
  {
   "cell_type": "markdown",
   "metadata": {},
   "source": [
    "Evaluate Model with Cross-Validation"
   ]
  },
  {
   "cell_type": "code",
   "execution_count": 57,
   "metadata": {},
   "outputs": [
    {
     "name": "stdout",
     "output_type": "stream",
     "text": [
      "Average MSE: 0.004029036845234136\n"
     ]
    }
   ],
   "source": [
    "scores = cross_val_score(lr_pipe, X_train_sample, y_train_log, scoring='neg_mean_squared_error', cv=5)\n",
    "print(f\"Average MSE: {-scores.mean()}\")"
   ]
  },
  {
   "cell_type": "markdown",
   "metadata": {},
   "source": [
    "Grid Search with Ridge"
   ]
  },
  {
   "cell_type": "code",
   "execution_count": 58,
   "metadata": {},
   "outputs": [
    {
     "name": "stdout",
     "output_type": "stream",
     "text": [
      "Best Parameters: {'model__alpha': 1}\n",
      "Best Cross-Validation MSE: 0.004154922630392588\n"
     ]
    }
   ],
   "source": [
    "ridge_pipe = Pipeline(steps=[\n",
    "    ('preprocessor', preprocessor),\n",
    "    ('model', Ridge())\n",
    "])\n",
    "param_grid = {\n",
    "    'model__alpha': [0.01, 0.1, 1, 10, 100]  # Regularization strength for Ridge\n",
    "}\n",
    "# GridSearchCV\n",
    "grid_search = GridSearchCV(ridge_pipe, param_grid, scoring='neg_mean_squared_error', cv=5)\n",
    "grid_search.fit(X_train_sample, y_train_log)\n",
    "# Results\n",
    "print(f\"Best Parameters: {grid_search.best_params_}\")\n",
    "print(f\"Best Cross-Validation MSE: {-grid_search.best_score_}\")"
   ]
  },
  {
   "cell_type": "markdown",
   "metadata": {},
   "source": [
    "Grid Search with Lasso"
   ]
  },
  {
   "cell_type": "code",
   "execution_count": null,
   "metadata": {},
   "outputs": [],
   "source": [
    "lasso_pipe = Pipeline(steps=[\n",
    "    ('preprocessor', preprocessor),\n",
    "    ('model', Lasso())\n",
    "])\n",
    "param_grid = {\n",
    "    'model__alpha': [0.01, 0.1, 1, 10, 100]  # Regularization strength for Lasso\n",
    "}\n",
    "# GridSearchCV\n",
    "grid_search = GridSearchCV(lasso_pipe, param_grid, scoring='neg_mean_squared_error', cv=5)\n",
    "grid_search.fit(X_train_sample, y_train_sample)\n",
    "# Results\n",
    "print(f\"Best Parameters: {grid_search.best_params_}\")\n",
    "print(f\"Best Cross-Validation MSE: {-grid_search.best_score_}\")"
   ]
  },
  {
   "cell_type": "markdown",
   "metadata": {},
   "source": [
    "### Decision Trees/Random Forests"
   ]
  },
  {
   "cell_type": "code",
   "execution_count": 59,
   "metadata": {},
   "outputs": [
    {
     "data": {
      "text/plain": [
       "race_eth_code                   0\n",
       "race_eth_name                   0\n",
       "geotype                         0\n",
       "geotypevalue                    0\n",
       "geoname                         0\n",
       "county_name                     0\n",
       "county_fips                     0\n",
       "region_name                     0\n",
       "region_code                     0\n",
       "cost_yr                      5114\n",
       "affordability_ratio         32591\n",
       "LL95_affordability_ratio    32997\n",
       "UL95_affordability_ratio    32997\n",
       "se_food_afford              32997\n",
       "rse_food_afford             32997\n",
       "food_afford_decile          45459\n",
       "CA_RR_Affordability         32591\n",
       "ave_fam_size                 2462\n",
       "latitude                      616\n",
       "longitude                     616\n",
       "dtype: int64"
      ]
     },
     "execution_count": 59,
     "metadata": {},
     "output_type": "execute_result"
    }
   ],
   "source": [
    "# make sure I don't have any nulls\n",
    "X_train_sample.isnull().sum()\n",
    "# since I do, I need to impute missing values"
   ]
  },
  {
   "cell_type": "code",
   "execution_count": 61,
   "metadata": {},
   "outputs": [
    {
     "name": "stdout",
     "output_type": "stream",
     "text": [
      "343.3652199835445\n"
     ]
    }
   ],
   "source": [
    "# make new numeric transformer since I only want to impute now\n",
    "dt_numeric_transformer = Pipeline(steps = [\n",
    "    ('imputer', SimpleImputer(strategy='mean'))\n",
    "])\n",
    "dt_preprocessor = ColumnTransformer(\n",
    "    transformers=[\n",
    "        ('num', dt_numeric_transformer, numeric_features),\n",
    "        ('cat', categorical_transformer, categorical_features)\n",
    "    ]\n",
    ")\n",
    "pipe = Pipeline(steps=[\n",
    "    ('preprocessor', dt_preprocessor),\n",
    "    ('model', DecisionTreeRegressor(random_state = 42))  \n",
    "])\n",
    "pipe.fit(X_train_sample, y_train_sample) # do not use scaled versions because decision trees don't need that\n",
    "y_test_pred = pipe.predict(X_test)\n",
    "test_mse = root_mean_squared_error(y_test, y_test_pred)\n",
    "print(test_mse)"
   ]
  },
  {
   "cell_type": "markdown",
   "metadata": {},
   "source": [
    "Tuning Decision Tree with Grid Search"
   ]
  },
  {
   "cell_type": "code",
   "execution_count": 62,
   "metadata": {},
   "outputs": [
    {
     "name": "stdout",
     "output_type": "stream",
     "text": [
      "Best Parameters: {'model__max_depth': None, 'model__min_samples_leaf': 1, 'model__min_samples_split': 2}\n",
      "Best MSE: 111916.4900619498\n"
     ]
    }
   ],
   "source": [
    "param_grid = {\n",
    "    'model__max_depth': [3, 5, 10, None],\n",
    "    'model__min_samples_split': [2, 5, 10],\n",
    "    'model__min_samples_leaf': [1, 2, 4]\n",
    "}\n",
    "\n",
    "grid_search = GridSearchCV(pipe, param_grid, scoring='neg_mean_squared_error', cv=5)\n",
    "grid_search.fit(X_train_sample, y_train_sample)\n",
    "print(f\"Best Parameters: {grid_search.best_params_}\")\n",
    "print(f\"Best MSE: {-grid_search.best_score_}\")"
   ]
  },
  {
   "cell_type": "markdown",
   "metadata": {},
   "source": [
    "### Gradient Boosting XGBoost"
   ]
  },
  {
   "cell_type": "code",
   "execution_count": 65,
   "metadata": {},
   "outputs": [
    {
     "data": {
      "text/html": [
       "<style>#sk-container-id-1 {\n",
       "  /* Definition of color scheme common for light and dark mode */\n",
       "  --sklearn-color-text: black;\n",
       "  --sklearn-color-line: gray;\n",
       "  /* Definition of color scheme for unfitted estimators */\n",
       "  --sklearn-color-unfitted-level-0: #fff5e6;\n",
       "  --sklearn-color-unfitted-level-1: #f6e4d2;\n",
       "  --sklearn-color-unfitted-level-2: #ffe0b3;\n",
       "  --sklearn-color-unfitted-level-3: chocolate;\n",
       "  /* Definition of color scheme for fitted estimators */\n",
       "  --sklearn-color-fitted-level-0: #f0f8ff;\n",
       "  --sklearn-color-fitted-level-1: #d4ebff;\n",
       "  --sklearn-color-fitted-level-2: #b3dbfd;\n",
       "  --sklearn-color-fitted-level-3: cornflowerblue;\n",
       "\n",
       "  /* Specific color for light theme */\n",
       "  --sklearn-color-text-on-default-background: var(--sg-text-color, var(--theme-code-foreground, var(--jp-content-font-color1, black)));\n",
       "  --sklearn-color-background: var(--sg-background-color, var(--theme-background, var(--jp-layout-color0, white)));\n",
       "  --sklearn-color-border-box: var(--sg-text-color, var(--theme-code-foreground, var(--jp-content-font-color1, black)));\n",
       "  --sklearn-color-icon: #696969;\n",
       "\n",
       "  @media (prefers-color-scheme: dark) {\n",
       "    /* Redefinition of color scheme for dark theme */\n",
       "    --sklearn-color-text-on-default-background: var(--sg-text-color, var(--theme-code-foreground, var(--jp-content-font-color1, white)));\n",
       "    --sklearn-color-background: var(--sg-background-color, var(--theme-background, var(--jp-layout-color0, #111)));\n",
       "    --sklearn-color-border-box: var(--sg-text-color, var(--theme-code-foreground, var(--jp-content-font-color1, white)));\n",
       "    --sklearn-color-icon: #878787;\n",
       "  }\n",
       "}\n",
       "\n",
       "#sk-container-id-1 {\n",
       "  color: var(--sklearn-color-text);\n",
       "}\n",
       "\n",
       "#sk-container-id-1 pre {\n",
       "  padding: 0;\n",
       "}\n",
       "\n",
       "#sk-container-id-1 input.sk-hidden--visually {\n",
       "  border: 0;\n",
       "  clip: rect(1px 1px 1px 1px);\n",
       "  clip: rect(1px, 1px, 1px, 1px);\n",
       "  height: 1px;\n",
       "  margin: -1px;\n",
       "  overflow: hidden;\n",
       "  padding: 0;\n",
       "  position: absolute;\n",
       "  width: 1px;\n",
       "}\n",
       "\n",
       "#sk-container-id-1 div.sk-dashed-wrapped {\n",
       "  border: 1px dashed var(--sklearn-color-line);\n",
       "  margin: 0 0.4em 0.5em 0.4em;\n",
       "  box-sizing: border-box;\n",
       "  padding-bottom: 0.4em;\n",
       "  background-color: var(--sklearn-color-background);\n",
       "}\n",
       "\n",
       "#sk-container-id-1 div.sk-container {\n",
       "  /* jupyter's `normalize.less` sets `[hidden] { display: none; }`\n",
       "     but bootstrap.min.css set `[hidden] { display: none !important; }`\n",
       "     so we also need the `!important` here to be able to override the\n",
       "     default hidden behavior on the sphinx rendered scikit-learn.org.\n",
       "     See: https://github.com/scikit-learn/scikit-learn/issues/21755 */\n",
       "  display: inline-block !important;\n",
       "  position: relative;\n",
       "}\n",
       "\n",
       "#sk-container-id-1 div.sk-text-repr-fallback {\n",
       "  display: none;\n",
       "}\n",
       "\n",
       "div.sk-parallel-item,\n",
       "div.sk-serial,\n",
       "div.sk-item {\n",
       "  /* draw centered vertical line to link estimators */\n",
       "  background-image: linear-gradient(var(--sklearn-color-text-on-default-background), var(--sklearn-color-text-on-default-background));\n",
       "  background-size: 2px 100%;\n",
       "  background-repeat: no-repeat;\n",
       "  background-position: center center;\n",
       "}\n",
       "\n",
       "/* Parallel-specific style estimator block */\n",
       "\n",
       "#sk-container-id-1 div.sk-parallel-item::after {\n",
       "  content: \"\";\n",
       "  width: 100%;\n",
       "  border-bottom: 2px solid var(--sklearn-color-text-on-default-background);\n",
       "  flex-grow: 1;\n",
       "}\n",
       "\n",
       "#sk-container-id-1 div.sk-parallel {\n",
       "  display: flex;\n",
       "  align-items: stretch;\n",
       "  justify-content: center;\n",
       "  background-color: var(--sklearn-color-background);\n",
       "  position: relative;\n",
       "}\n",
       "\n",
       "#sk-container-id-1 div.sk-parallel-item {\n",
       "  display: flex;\n",
       "  flex-direction: column;\n",
       "}\n",
       "\n",
       "#sk-container-id-1 div.sk-parallel-item:first-child::after {\n",
       "  align-self: flex-end;\n",
       "  width: 50%;\n",
       "}\n",
       "\n",
       "#sk-container-id-1 div.sk-parallel-item:last-child::after {\n",
       "  align-self: flex-start;\n",
       "  width: 50%;\n",
       "}\n",
       "\n",
       "#sk-container-id-1 div.sk-parallel-item:only-child::after {\n",
       "  width: 0;\n",
       "}\n",
       "\n",
       "/* Serial-specific style estimator block */\n",
       "\n",
       "#sk-container-id-1 div.sk-serial {\n",
       "  display: flex;\n",
       "  flex-direction: column;\n",
       "  align-items: center;\n",
       "  background-color: var(--sklearn-color-background);\n",
       "  padding-right: 1em;\n",
       "  padding-left: 1em;\n",
       "}\n",
       "\n",
       "\n",
       "/* Toggleable style: style used for estimator/Pipeline/ColumnTransformer box that is\n",
       "clickable and can be expanded/collapsed.\n",
       "- Pipeline and ColumnTransformer use this feature and define the default style\n",
       "- Estimators will overwrite some part of the style using the `sk-estimator` class\n",
       "*/\n",
       "\n",
       "/* Pipeline and ColumnTransformer style (default) */\n",
       "\n",
       "#sk-container-id-1 div.sk-toggleable {\n",
       "  /* Default theme specific background. It is overwritten whether we have a\n",
       "  specific estimator or a Pipeline/ColumnTransformer */\n",
       "  background-color: var(--sklearn-color-background);\n",
       "}\n",
       "\n",
       "/* Toggleable label */\n",
       "#sk-container-id-1 label.sk-toggleable__label {\n",
       "  cursor: pointer;\n",
       "  display: block;\n",
       "  width: 100%;\n",
       "  margin-bottom: 0;\n",
       "  padding: 0.5em;\n",
       "  box-sizing: border-box;\n",
       "  text-align: center;\n",
       "}\n",
       "\n",
       "#sk-container-id-1 label.sk-toggleable__label-arrow:before {\n",
       "  /* Arrow on the left of the label */\n",
       "  content: \"▸\";\n",
       "  float: left;\n",
       "  margin-right: 0.25em;\n",
       "  color: var(--sklearn-color-icon);\n",
       "}\n",
       "\n",
       "#sk-container-id-1 label.sk-toggleable__label-arrow:hover:before {\n",
       "  color: var(--sklearn-color-text);\n",
       "}\n",
       "\n",
       "/* Toggleable content - dropdown */\n",
       "\n",
       "#sk-container-id-1 div.sk-toggleable__content {\n",
       "  max-height: 0;\n",
       "  max-width: 0;\n",
       "  overflow: hidden;\n",
       "  text-align: left;\n",
       "  /* unfitted */\n",
       "  background-color: var(--sklearn-color-unfitted-level-0);\n",
       "}\n",
       "\n",
       "#sk-container-id-1 div.sk-toggleable__content.fitted {\n",
       "  /* fitted */\n",
       "  background-color: var(--sklearn-color-fitted-level-0);\n",
       "}\n",
       "\n",
       "#sk-container-id-1 div.sk-toggleable__content pre {\n",
       "  margin: 0.2em;\n",
       "  border-radius: 0.25em;\n",
       "  color: var(--sklearn-color-text);\n",
       "  /* unfitted */\n",
       "  background-color: var(--sklearn-color-unfitted-level-0);\n",
       "}\n",
       "\n",
       "#sk-container-id-1 div.sk-toggleable__content.fitted pre {\n",
       "  /* unfitted */\n",
       "  background-color: var(--sklearn-color-fitted-level-0);\n",
       "}\n",
       "\n",
       "#sk-container-id-1 input.sk-toggleable__control:checked~div.sk-toggleable__content {\n",
       "  /* Expand drop-down */\n",
       "  max-height: 200px;\n",
       "  max-width: 100%;\n",
       "  overflow: auto;\n",
       "}\n",
       "\n",
       "#sk-container-id-1 input.sk-toggleable__control:checked~label.sk-toggleable__label-arrow:before {\n",
       "  content: \"▾\";\n",
       "}\n",
       "\n",
       "/* Pipeline/ColumnTransformer-specific style */\n",
       "\n",
       "#sk-container-id-1 div.sk-label input.sk-toggleable__control:checked~label.sk-toggleable__label {\n",
       "  color: var(--sklearn-color-text);\n",
       "  background-color: var(--sklearn-color-unfitted-level-2);\n",
       "}\n",
       "\n",
       "#sk-container-id-1 div.sk-label.fitted input.sk-toggleable__control:checked~label.sk-toggleable__label {\n",
       "  background-color: var(--sklearn-color-fitted-level-2);\n",
       "}\n",
       "\n",
       "/* Estimator-specific style */\n",
       "\n",
       "/* Colorize estimator box */\n",
       "#sk-container-id-1 div.sk-estimator input.sk-toggleable__control:checked~label.sk-toggleable__label {\n",
       "  /* unfitted */\n",
       "  background-color: var(--sklearn-color-unfitted-level-2);\n",
       "}\n",
       "\n",
       "#sk-container-id-1 div.sk-estimator.fitted input.sk-toggleable__control:checked~label.sk-toggleable__label {\n",
       "  /* fitted */\n",
       "  background-color: var(--sklearn-color-fitted-level-2);\n",
       "}\n",
       "\n",
       "#sk-container-id-1 div.sk-label label.sk-toggleable__label,\n",
       "#sk-container-id-1 div.sk-label label {\n",
       "  /* The background is the default theme color */\n",
       "  color: var(--sklearn-color-text-on-default-background);\n",
       "}\n",
       "\n",
       "/* On hover, darken the color of the background */\n",
       "#sk-container-id-1 div.sk-label:hover label.sk-toggleable__label {\n",
       "  color: var(--sklearn-color-text);\n",
       "  background-color: var(--sklearn-color-unfitted-level-2);\n",
       "}\n",
       "\n",
       "/* Label box, darken color on hover, fitted */\n",
       "#sk-container-id-1 div.sk-label.fitted:hover label.sk-toggleable__label.fitted {\n",
       "  color: var(--sklearn-color-text);\n",
       "  background-color: var(--sklearn-color-fitted-level-2);\n",
       "}\n",
       "\n",
       "/* Estimator label */\n",
       "\n",
       "#sk-container-id-1 div.sk-label label {\n",
       "  font-family: monospace;\n",
       "  font-weight: bold;\n",
       "  display: inline-block;\n",
       "  line-height: 1.2em;\n",
       "}\n",
       "\n",
       "#sk-container-id-1 div.sk-label-container {\n",
       "  text-align: center;\n",
       "}\n",
       "\n",
       "/* Estimator-specific */\n",
       "#sk-container-id-1 div.sk-estimator {\n",
       "  font-family: monospace;\n",
       "  border: 1px dotted var(--sklearn-color-border-box);\n",
       "  border-radius: 0.25em;\n",
       "  box-sizing: border-box;\n",
       "  margin-bottom: 0.5em;\n",
       "  /* unfitted */\n",
       "  background-color: var(--sklearn-color-unfitted-level-0);\n",
       "}\n",
       "\n",
       "#sk-container-id-1 div.sk-estimator.fitted {\n",
       "  /* fitted */\n",
       "  background-color: var(--sklearn-color-fitted-level-0);\n",
       "}\n",
       "\n",
       "/* on hover */\n",
       "#sk-container-id-1 div.sk-estimator:hover {\n",
       "  /* unfitted */\n",
       "  background-color: var(--sklearn-color-unfitted-level-2);\n",
       "}\n",
       "\n",
       "#sk-container-id-1 div.sk-estimator.fitted:hover {\n",
       "  /* fitted */\n",
       "  background-color: var(--sklearn-color-fitted-level-2);\n",
       "}\n",
       "\n",
       "/* Specification for estimator info (e.g. \"i\" and \"?\") */\n",
       "\n",
       "/* Common style for \"i\" and \"?\" */\n",
       "\n",
       ".sk-estimator-doc-link,\n",
       "a:link.sk-estimator-doc-link,\n",
       "a:visited.sk-estimator-doc-link {\n",
       "  float: right;\n",
       "  font-size: smaller;\n",
       "  line-height: 1em;\n",
       "  font-family: monospace;\n",
       "  background-color: var(--sklearn-color-background);\n",
       "  border-radius: 1em;\n",
       "  height: 1em;\n",
       "  width: 1em;\n",
       "  text-decoration: none !important;\n",
       "  margin-left: 1ex;\n",
       "  /* unfitted */\n",
       "  border: var(--sklearn-color-unfitted-level-1) 1pt solid;\n",
       "  color: var(--sklearn-color-unfitted-level-1);\n",
       "}\n",
       "\n",
       ".sk-estimator-doc-link.fitted,\n",
       "a:link.sk-estimator-doc-link.fitted,\n",
       "a:visited.sk-estimator-doc-link.fitted {\n",
       "  /* fitted */\n",
       "  border: var(--sklearn-color-fitted-level-1) 1pt solid;\n",
       "  color: var(--sklearn-color-fitted-level-1);\n",
       "}\n",
       "\n",
       "/* On hover */\n",
       "div.sk-estimator:hover .sk-estimator-doc-link:hover,\n",
       ".sk-estimator-doc-link:hover,\n",
       "div.sk-label-container:hover .sk-estimator-doc-link:hover,\n",
       ".sk-estimator-doc-link:hover {\n",
       "  /* unfitted */\n",
       "  background-color: var(--sklearn-color-unfitted-level-3);\n",
       "  color: var(--sklearn-color-background);\n",
       "  text-decoration: none;\n",
       "}\n",
       "\n",
       "div.sk-estimator.fitted:hover .sk-estimator-doc-link.fitted:hover,\n",
       ".sk-estimator-doc-link.fitted:hover,\n",
       "div.sk-label-container:hover .sk-estimator-doc-link.fitted:hover,\n",
       ".sk-estimator-doc-link.fitted:hover {\n",
       "  /* fitted */\n",
       "  background-color: var(--sklearn-color-fitted-level-3);\n",
       "  color: var(--sklearn-color-background);\n",
       "  text-decoration: none;\n",
       "}\n",
       "\n",
       "/* Span, style for the box shown on hovering the info icon */\n",
       ".sk-estimator-doc-link span {\n",
       "  display: none;\n",
       "  z-index: 9999;\n",
       "  position: relative;\n",
       "  font-weight: normal;\n",
       "  right: .2ex;\n",
       "  padding: .5ex;\n",
       "  margin: .5ex;\n",
       "  width: min-content;\n",
       "  min-width: 20ex;\n",
       "  max-width: 50ex;\n",
       "  color: var(--sklearn-color-text);\n",
       "  box-shadow: 2pt 2pt 4pt #999;\n",
       "  /* unfitted */\n",
       "  background: var(--sklearn-color-unfitted-level-0);\n",
       "  border: .5pt solid var(--sklearn-color-unfitted-level-3);\n",
       "}\n",
       "\n",
       ".sk-estimator-doc-link.fitted span {\n",
       "  /* fitted */\n",
       "  background: var(--sklearn-color-fitted-level-0);\n",
       "  border: var(--sklearn-color-fitted-level-3);\n",
       "}\n",
       "\n",
       ".sk-estimator-doc-link:hover span {\n",
       "  display: block;\n",
       "}\n",
       "\n",
       "/* \"?\"-specific style due to the `<a>` HTML tag */\n",
       "\n",
       "#sk-container-id-1 a.estimator_doc_link {\n",
       "  float: right;\n",
       "  font-size: 1rem;\n",
       "  line-height: 1em;\n",
       "  font-family: monospace;\n",
       "  background-color: var(--sklearn-color-background);\n",
       "  border-radius: 1rem;\n",
       "  height: 1rem;\n",
       "  width: 1rem;\n",
       "  text-decoration: none;\n",
       "  /* unfitted */\n",
       "  color: var(--sklearn-color-unfitted-level-1);\n",
       "  border: var(--sklearn-color-unfitted-level-1) 1pt solid;\n",
       "}\n",
       "\n",
       "#sk-container-id-1 a.estimator_doc_link.fitted {\n",
       "  /* fitted */\n",
       "  border: var(--sklearn-color-fitted-level-1) 1pt solid;\n",
       "  color: var(--sklearn-color-fitted-level-1);\n",
       "}\n",
       "\n",
       "/* On hover */\n",
       "#sk-container-id-1 a.estimator_doc_link:hover {\n",
       "  /* unfitted */\n",
       "  background-color: var(--sklearn-color-unfitted-level-3);\n",
       "  color: var(--sklearn-color-background);\n",
       "  text-decoration: none;\n",
       "}\n",
       "\n",
       "#sk-container-id-1 a.estimator_doc_link.fitted:hover {\n",
       "  /* fitted */\n",
       "  background-color: var(--sklearn-color-fitted-level-3);\n",
       "}\n",
       "</style><div id=\"sk-container-id-1\" class=\"sk-top-container\"><div class=\"sk-text-repr-fallback\"><pre>XGBRegressor(base_score=None, booster=None, callbacks=None,\n",
       "             colsample_bylevel=None, colsample_bynode=None,\n",
       "             colsample_bytree=None, device=None, early_stopping_rounds=None,\n",
       "             enable_categorical=False, eval_metric=None, feature_types=None,\n",
       "             gamma=None, grow_policy=None, importance_type=None,\n",
       "             interaction_constraints=None, learning_rate=0.1, max_bin=None,\n",
       "             max_cat_threshold=None, max_cat_to_onehot=None,\n",
       "             max_delta_step=None, max_depth=3, max_leaves=None,\n",
       "             min_child_weight=None, missing=nan, monotone_constraints=None,\n",
       "             multi_strategy=None, n_estimators=100, n_jobs=None,\n",
       "             num_parallel_tree=None, random_state=42, ...)</pre><b>In a Jupyter environment, please rerun this cell to show the HTML representation or trust the notebook. <br />On GitHub, the HTML representation is unable to render, please try loading this page with nbviewer.org.</b></div><div class=\"sk-container\" hidden><div class=\"sk-item\"><div class=\"sk-estimator fitted sk-toggleable\"><input class=\"sk-toggleable__control sk-hidden--visually\" id=\"sk-estimator-id-1\" type=\"checkbox\" checked><label for=\"sk-estimator-id-1\" class=\"sk-toggleable__label fitted sk-toggleable__label-arrow fitted\">&nbsp;XGBRegressor<span class=\"sk-estimator-doc-link fitted\">i<span>Fitted</span></span></label><div class=\"sk-toggleable__content fitted\"><pre>XGBRegressor(base_score=None, booster=None, callbacks=None,\n",
       "             colsample_bylevel=None, colsample_bynode=None,\n",
       "             colsample_bytree=None, device=None, early_stopping_rounds=None,\n",
       "             enable_categorical=False, eval_metric=None, feature_types=None,\n",
       "             gamma=None, grow_policy=None, importance_type=None,\n",
       "             interaction_constraints=None, learning_rate=0.1, max_bin=None,\n",
       "             max_cat_threshold=None, max_cat_to_onehot=None,\n",
       "             max_delta_step=None, max_depth=3, max_leaves=None,\n",
       "             min_child_weight=None, missing=nan, monotone_constraints=None,\n",
       "             multi_strategy=None, n_estimators=100, n_jobs=None,\n",
       "             num_parallel_tree=None, random_state=42, ...)</pre></div> </div></div></div></div>"
      ],
      "text/plain": [
       "XGBRegressor(base_score=None, booster=None, callbacks=None,\n",
       "             colsample_bylevel=None, colsample_bynode=None,\n",
       "             colsample_bytree=None, device=None, early_stopping_rounds=None,\n",
       "             enable_categorical=False, eval_metric=None, feature_types=None,\n",
       "             gamma=None, grow_policy=None, importance_type=None,\n",
       "             interaction_constraints=None, learning_rate=0.1, max_bin=None,\n",
       "             max_cat_threshold=None, max_cat_to_onehot=None,\n",
       "             max_delta_step=None, max_depth=3, max_leaves=None,\n",
       "             min_child_weight=None, missing=nan, monotone_constraints=None,\n",
       "             multi_strategy=None, n_estimators=100, n_jobs=None,\n",
       "             num_parallel_tree=None, random_state=42, ...)"
      ]
     },
     "execution_count": 65,
     "metadata": {},
     "output_type": "execute_result"
    }
   ],
   "source": [
    "# using XGBoost\n",
    "\n",
    "# need to deal with categorical\n",
    "X_train_processed = preprocessor.fit_transform(X_train_sample, y_train_sample)\n",
    "X_test_processed = preprocessor.transform(X_test)\n",
    "\n",
    "xgb_model = XGBRegressor(n_estimators=100, \n",
    "                         learning_rate=0.1, \n",
    "                         max_depth=3, \n",
    "                         random_state=42,\n",
    "                        )\n",
    "xgb_model.fit(X_train_processed, y_train_sample)\n",
    "# maybe add l1/l2 regularization "
   ]
  },
  {
   "cell_type": "markdown",
   "metadata": {},
   "source": [
    "Evaluate Model"
   ]
  },
  {
   "cell_type": "code",
   "execution_count": 66,
   "metadata": {},
   "outputs": [
    {
     "name": "stdout",
     "output_type": "stream",
     "text": [
      "Test rMSE: 860.1672543401273\n"
     ]
    }
   ],
   "source": [
    "y_test_pred = xgb_model.predict(X_test_processed)\n",
    "mse = root_mean_squared_error(y_test, y_test_pred)\n",
    "print(f'Test rMSE: {mse}')"
   ]
  },
  {
   "cell_type": "code",
   "execution_count": 67,
   "metadata": {},
   "outputs": [
    {
     "data": {
      "image/png": "[encoded data removed]",
      "text/plain": [
       "<Figure size 640x480 with 1 Axes>"
      ]
     },
     "metadata": {},
     "output_type": "display_data"
    }
   ],
   "source": [
    "# graph feature importance\n",
    "feature_importances = xgb_model.feature_importances_\n",
    "plt.barh(range(len(feature_importances)), feature_importances)\n",
    "plt.xlabel('Feature Importance')\n",
    "plt.ylabel('Feature Index')\n",
    "plt.show()"
   ]
  },
  {
   "cell_type": "markdown",
   "metadata": {},
   "source": [
    "Grid Search for Hyperparam Tuning"
   ]
  },
  {
   "cell_type": "code",
   "execution_count": 68,
   "metadata": {},
   "outputs": [
    {
     "name": "stdout",
     "output_type": "stream",
     "text": [
      "Fitting 5 folds for each of 54 candidates, totalling 270 fits\n",
      "Best Parameters: {'model__max_depth': None, 'model__min_samples_leaf': 1, 'model__min_samples_split': 2}\n",
      "Best MSE: 111916.4900619498\n"
     ]
    }
   ],
   "source": [
    "param_grid = {\n",
    "    'n_estimators': [50, 100, 200],\n",
    "    'learning_rate': [0.01, 0.1, 0.2],\n",
    "    'max_depth': [3, 5, 7],\n",
    "    'subsample': [0.8, 1.0]\n",
    "}\n",
    "gb_grid_search = GridSearchCV(\n",
    "    XGBRegressor(random_state=42),\n",
    "    param_grid=param_grid,\n",
    "    scoring='neg_mean_squared_error',\n",
    "    cv=5,\n",
    "    verbose = 1\n",
    ")\n",
    "gb_grid_search.fit(X_train_processed, y_train_sample)\n",
    "print(f\"Best Parameters: {grid_search.best_params_}\")\n",
    "print(f\"Best MSE: {-grid_search.best_score_}\")"
   ]
  },
  {
   "cell_type": "code",
   "execution_count": 69,
   "metadata": {},
   "outputs": [
    {
     "data": {
      "image/png": "[encoded data removed]",
      "text/plain": [
       "<Figure size 640x480 with 1 Axes>"
      ]
     },
     "metadata": {},
     "output_type": "display_data"
    }
   ],
   "source": [
    "# graph feature importance\n",
    "feature_importances = xgb_model.feature_importances_\n",
    "plt.barh(range(len(feature_importances)), feature_importances)\n",
    "plt.xlabel('Feature Importance')\n",
    "plt.ylabel('Feature Index')\n",
    "plt.show()"
   ]
  },
  {
   "cell_type": "markdown",
   "metadata": {},
   "source": [
    "# Deep Learning Model with Hyperparam. Optimization"
   ]
  },
  {
   "cell_type": "code",
   "execution_count": 70,
   "metadata": {},
   "outputs": [],
   "source": [
    "# load all DNN packages\n",
    "from tensorflow import keras\n",
    "from keras.models import Sequential, Model\n",
    "from keras.layers import Dense, Dropout, Flatten, Input\n",
    "from keras.layers import Conv2D, MaxPooling2D\n",
    "from tensorflow.keras.layers import BatchNormalization\n",
    "from keras.layers import LeakyReLU\n",
    "import tensorflow as tf\n",
    "from tensorflow.keras.callbacks import EarlyStopping"
   ]
  },
  {
   "cell_type": "code",
   "execution_count": 72,
   "metadata": {},
   "outputs": [],
   "source": [
    "# scale features \n",
    "scaler = StandardScaler(with_mean = False) # since some features are one hot encoded\n",
    "X_train_DNN = scaler.fit_transform(X_train_processed)  # Preprocessed numeric/categorical data\n",
    "X_test_DNN = scaler.transform(X_test_processed)"
   ]
  },
  {
   "cell_type": "code",
   "execution_count": null,
   "metadata": {},
   "outputs": [],
   "source": [
    "# transform target"
   ]
  },
  {
   "cell_type": "code",
   "execution_count": 73,
   "metadata": {},
   "outputs": [],
   "source": [
    "# define neural network\n",
    "model = Sequential([\n",
    "    Dense(128, activation='relu', input_shape=(X_train_DNN.shape[1],)),  # Input layer\n",
    "    Dropout(0.2),  # Dropout for regularization\n",
    "    Dense(64, activation='relu'),  # Hidden layer\n",
    "    Dense(32, activation='relu'),  # Another hidden layer\n",
    "    Dense(1)  # Output layer for regression\n",
    "])"
   ]
  },
  {
   "cell_type": "code",
   "execution_count": 74,
   "metadata": {},
   "outputs": [],
   "source": [
    "# compile the model\n",
    "model.compile(optimizer='adam', loss='mse', metrics=['mae'])"
   ]
  },
  {
   "cell_type": "code",
   "execution_count": 77,
   "metadata": {},
   "outputs": [
    {
     "name": "stdout",
     "output_type": "stream",
     "text": [
      "Epoch 1/20\n",
      "1250/1250 [==============================] - 6s 5ms/step - loss: 12159726.0000 - mae: 2319.2800 - val_loss: 11477338.0000 - val_mae: 1419.7272\n",
      "Epoch 2/20\n",
      "1250/1250 [==============================] - 2s 2ms/step - loss: 11395871.0000 - mae: 2257.4033 - val_loss: 10027022.0000 - val_mae: 1295.6523\n",
      "Epoch 3/20\n",
      "1250/1250 [==============================] - 2s 2ms/step - loss: 10779661.0000 - mae: 2206.1389 - val_loss: 9884460.0000 - val_mae: 1357.7731\n",
      "Epoch 4/20\n",
      "1250/1250 [==============================] - 3s 2ms/step - loss: 10079225.0000 - mae: 2118.9351 - val_loss: 10413955.0000 - val_mae: 1370.9906\n",
      "Epoch 5/20\n",
      "1250/1250 [==============================] - 2s 2ms/step - loss: 9802113.0000 - mae: 2091.2559 - val_loss: 8819658.0000 - val_mae: 1186.4773\n",
      "Epoch 6/20\n",
      "1250/1250 [==============================] - 3s 2ms/step - loss: 9008416.0000 - mae: 2028.6830 - val_loss: 10341945.0000 - val_mae: 1691.4844\n",
      "Epoch 7/20\n",
      "1250/1250 [==============================] - 2s 2ms/step - loss: 8602609.0000 - mae: 1973.6920 - val_loss: 8790671.0000 - val_mae: 1073.1193\n",
      "Epoch 8/20\n",
      "1250/1250 [==============================] - 2s 2ms/step - loss: 8216097.0000 - mae: 1913.0833 - val_loss: 9667754.0000 - val_mae: 1539.6852\n",
      "Epoch 9/20\n",
      "1250/1250 [==============================] - 2s 2ms/step - loss: 7615290.5000 - mae: 1843.2268 - val_loss: 10583314.0000 - val_mae: 1703.3448\n",
      "Epoch 10/20\n",
      "1250/1250 [==============================] - 2s 2ms/step - loss: 7157340.0000 - mae: 1778.4004 - val_loss: 9912909.0000 - val_mae: 1743.8628\n",
      "Epoch 11/20\n",
      "1250/1250 [==============================] - 2s 2ms/step - loss: 7125009.0000 - mae: 1752.4380 - val_loss: 13545791.0000 - val_mae: 2444.8435\n",
      "Epoch 12/20\n",
      "1250/1250 [==============================] - 3s 2ms/step - loss: 6571937.5000 - mae: 1677.0601 - val_loss: 10291679.0000 - val_mae: 1847.7227\n",
      "Epoch 13/20\n",
      "1250/1250 [==============================] - 2s 2ms/step - loss: 6444672.0000 - mae: 1633.8789 - val_loss: 12374426.0000 - val_mae: 2116.2112\n",
      "Epoch 14/20\n",
      "1250/1250 [==============================] - 2s 2ms/step - loss: 6177569.0000 - mae: 1577.3904 - val_loss: 12621881.0000 - val_mae: 2339.4294\n",
      "Epoch 15/20\n",
      "1250/1250 [==============================] - 2s 2ms/step - loss: 5847247.5000 - mae: 1507.4342 - val_loss: 12329988.0000 - val_mae: 2083.0376\n",
      "Epoch 16/20\n",
      "1250/1250 [==============================] - 3s 2ms/step - loss: 5943064.0000 - mae: 1478.4871 - val_loss: 14629264.0000 - val_mae: 2763.8875\n",
      "Epoch 17/20\n",
      "1250/1250 [==============================] - 3s 2ms/step - loss: 5377454.5000 - mae: 1425.6917 - val_loss: 16076898.0000 - val_mae: 2910.9939\n"
     ]
    }
   ],
   "source": [
    "# train the model\n",
    "\n",
    "# implement early stopping to avoid overfitting\n",
    "early_stopping = EarlyStopping(monitor='val_loss', patience=10, restore_best_weights=True)\n",
    "\n",
    "# convert sparse matrix to dense\n",
    "X_train_DNN_dense = X_train_DNN.toarray()\n",
    "\n",
    "history = model.fit(\n",
    "    X_train_DNN_dense, y_train_sample,  # Use log-transformed targets if needed\n",
    "    validation_split=0.2,  # Use part of the training data for validation\n",
    "    epochs=20,  # Maximum number of epochs\n",
    "    batch_size=32,  # Batch size for gradient updates\n",
    "    callbacks=[early_stopping],  # Add early stopping\n",
    "    verbose=1  # Print progress\n",
    ")"
   ]
  },
  {
   "cell_type": "code",
   "execution_count": 78,
   "metadata": {},
   "outputs": [
    {
     "data": {
      "image/png": "[encoded data removed]",
      "text/plain": [
       "<Figure size 640x480 with 1 Axes>"
      ]
     },
     "metadata": {},
     "output_type": "display_data"
    }
   ],
   "source": [
    "# plot training and validation loss to eval model performance\n",
    "\n",
    "plt.plot(history.history['loss'], label='Training Loss')\n",
    "plt.plot(history.history['val_loss'], label='Validation Loss')\n",
    "plt.xlabel('Epochs')\n",
    "plt.ylabel('Loss')\n",
    "plt.legend()\n",
    "plt.title('Training and Validation Loss')\n",
    "plt.show()"
   ]
  },
  {
   "cell_type": "code",
   "execution_count": 79,
   "metadata": {},
   "outputs": [
    {
     "name": "stdout",
     "output_type": "stream",
     "text": [
      "2308/2308 [==============================] - 4s 2ms/step\n",
      "Test rMSE: 860.1672543401273\n"
     ]
    }
   ],
   "source": [
    "# evaluate model\n",
    "\n",
    "# predict on test data\n",
    "y_test_pred_dnn = model.predict(X_test_DNN)\n",
    "rmse = root_mean_squared_error(y_test, y_test_pred_dnn)\n",
    "print(f\"Test rMSE: {mse}\")"
   ]
  },
  {
   "cell_type": "markdown",
   "metadata": {},
   "source": [
    "# Anomaly Detection or Cluster Analysis"
   ]
  },
  {
   "cell_type": "markdown",
   "metadata": {},
   "source": [
    "Anomaly detection\n",
    "\n",
    "identify data points significantly different from the rest (represent errors, unusualy events, important patterns)\n",
    "\n",
    "can help identify income outliers\n",
    "improve model performance\n",
    "etc"
   ]
  },
  {
   "cell_type": "markdown",
   "metadata": {},
   "source": [
    "Cluster Analysis\n",
    "\n",
    "group similar data points based on characterisetics\n",
    "\n",
    "reveal natural groupings or patterns\n",
    "\n",
    "good for segmentation"
   ]
  },
  {
   "cell_type": "code",
   "execution_count": 98,
   "metadata": {},
   "outputs": [],
   "source": [
    "# import libraries\n",
    "from sklearn.cluster import KMeans\n",
    "from sklearn.metrics import silhouette_score\n"
   ]
  },
  {
   "cell_type": "code",
   "execution_count": 80,
   "metadata": {},
   "outputs": [],
   "source": [
    "# anomaly detection on income with K Means\n",
    "\n",
    "cluster = df[['median_income']]\n",
    "# standardize income \n",
    "scaler = StandardScaler()\n",
    "cluster_scaled = scaler.fit_transform(cluster)\n",
    "\n",
    "# fit K Means\n",
    "kmeans = KMeans(n_clusters=3, random_state = 42)\n",
    "df['income_cluster'] = kmeans.fit_predict(cluster_scaled)\n",
    "# distances to centroid\n",
    "distances = np.abs(cluster_scaled - kmeans.cluster_centers_[df['income_cluster']])\n",
    "df['income_dist_centroid'] = distances\n",
    "\n",
    "# set threshold\n",
    "threshold = np.percentile(df['income_dist_centroid'], 99) # capture top 1% of anomalies\n",
    "\n",
    "# label anomalies\n",
    "df['is_anomaly'] = df['income_dist_centroid'] > threshold\n",
    "\n",
    "# get anomalies\n",
    "anomalies = df[df['is_anomaly']]\n",
    "\n",
    "# visualize anomalies\n",
    "plt.scatter(df.index, cluster_scaled, c=df['income_cluster'], cmap='viridis', label='Clusters')\n",
    "\n",
    "plt.scatter(df[df['is_anomaly']].index, df[df['is_anomaly']]['median_income'], color='red', label='Anomalies', edgecolor='k')\n",
    "plt.xlabel('Index')\n",
    "plt.ylabel('Standardized Income')\n",
    "plt.title('K-Means Clustering for Anomaly Detection')\n",
    "plt.legend()\n",
    "plt.show()"
   ]
  },
  {
   "cell_type": "code",
   "execution_count": 109,
   "metadata": {},
   "outputs": [
    {
     "data": {
      "text/plain": [
       "Index(['ind_id', 'ind_definition', 'reportyear', 'race_eth_code',\n",
       "       'race_eth_name', 'geotype', 'geotypevalue', 'geoname', 'county_name',\n",
       "       'county_fips', 'region_name', 'region_code', 'cost_yr', 'median_income',\n",
       "       'affordability_ratio', 'LL95_affordability_ratio',\n",
       "       'UL95_affordability_ratio', 'se_food_afford', 'rse_food_afford',\n",
       "       'food_afford_decile', 'CA_RR_Affordability', 'ave_fam_size', 'version',\n",
       "       'latitude', 'longitude', 'affordability_per_person', 'income_cluster',\n",
       "       'income_dist_centroid', 'is_anomaly'],\n",
       "      dtype='object')"
      ]
     },
     "execution_count": 109,
     "metadata": {},
     "output_type": "execute_result"
    }
   ],
   "source": [
    "df.columns"
   ]
  },
  {
   "cell_type": "code",
   "execution_count": 113,
   "metadata": {},
   "outputs": [
    {
     "name": "stderr",
     "output_type": "stream",
     "text": [
      "/var/folders/8f/l9_yqvn54_ldh6kclbdcgvfh0000gn/T/ipykernel_49542/1906728021.py:19: SettingWithCopyWarning: \n",
      "A value is trying to be set on a copy of a slice from a DataFrame.\n",
      "Try using .loc[row_indexer,col_indexer] = value instead\n",
      "\n",
      "See the caveats in the documentation: https://pandas.pydata.org/pandas-docs/stable/user_guide/indexing.html#returning-a-view-versus-a-copy\n",
      "  df_here['cluster'] = kmeans.fit_predict(X)\n"
     ]
    },
    {
     "data": {
      "text/plain": [
       "<matplotlib.legend.Legend at 0x34b654310>"
      ]
     },
     "execution_count": 113,
     "metadata": {},
     "output_type": "execute_result"
    },
    {
     "data": {
      "image/png": "[encoded data removed]",
      "text/plain": [
       "<Figure size 1000x600 with 1 Axes>"
      ]
     },
     "metadata": {},
     "output_type": "display_data"
    }
   ],
   "source": [
    "# anomaly detection on income, family size, race with K Means\n",
    "features = df[['median_income','ave_fam_size', 'race_eth_name']]\n",
    "\n",
    "df_here = df.dropna(subset=['median_income','ave_fam_size', 'race_eth_name'])  # Drop rows with missing values\n",
    "\n",
    "# preprocess data\n",
    "preprocessor = ColumnTransformer(\n",
    "    transformers=[\n",
    "        ('num', StandardScaler(), ['median_income', 'ave_fam_size']),  # Scale numeric features\n",
    "        ('cat', OneHotEncoder(), ['race_eth_name'])  # Encode categorical features\n",
    "    ]\n",
    ")\n",
    "\n",
    "X = preprocessor.fit_transform(df_here)\n",
    "\n",
    "# fit K Means\n",
    "n_clusters = df['race_eth_name'].nunique()\n",
    "kmeans = KMeans(n_clusters=n_clusters, random_state = 42)\n",
    "df_here['cluster'] = kmeans.fit_predict(X)\n",
    "\n",
    "\n",
    "plt.figure(figsize=(10, 6))\n",
    "scatter = plt.scatter(\n",
    "    df_here['median_income'],\n",
    "    df_here['ave_fam_size'],\n",
    "    c=df_here['cluster'],  # Color by cluster\n",
    "    cmap='viridis',\n",
    "    edgecolor='k'\n",
    ")\n",
    "\n",
    "handles, _ = scatter.legend_elements()\n",
    "legend_labels = df['race_eth_name'].unique()\n",
    "plt.legend(handles, legend_labels, title=\"Clusters\")"
   ]
  },
  {
   "cell_type": "markdown",
   "metadata": {},
   "source": [
    "Some racial groups tend to cluster into lower-income categories\n",
    "\n",
    "large family size doesn't seem to have a relationship with income level"
   ]
  },
  {
   "cell_type": "code",
   "execution_count": null,
   "metadata": {},
   "outputs": [],
   "source": [
    "# Analyze centroids\n",
    "print(kmeans.cluster_centers_)\n",
    "\n",
    "silhouette = silhouette_score(X, df_here['cluster'])\n",
    "print(f'Silhouette Score: {silhouette}')"
   ]
  },
  {
   "cell_type": "markdown",
   "metadata": {},
   "source": [
    "# Dimension Reduction "
   ]
  },
  {
   "cell_type": "markdown",
   "metadata": {},
   "source": [
    "simplifying datasets with many features while keeping the most important info"
   ]
  },
  {
   "cell_type": "code",
   "execution_count": null,
   "metadata": {},
   "outputs": [],
   "source": []
  },
  {
   "cell_type": "markdown",
   "metadata": {},
   "source": [
    "# SHAP for Feature Importance"
   ]
  },
  {
   "cell_type": "code",
   "execution_count": null,
   "metadata": {},
   "outputs": [],
   "source": []
  }
 ],
 "metadata": {
  "kernelspec": {
   "display_name": "stat486",
   "language": "python",
   "name": "python3"
  },
  "language_info": {
   "codemirror_mode": {
    "name": "ipython",
    "version": 3
   },
   "file_extension": ".py",
   "mimetype": "text/x-python",
   "name": "python",
   "nbconvert_exporter": "python",
   "pygments_lexer": "ipython3",
   "version": "3.10.13"
  }
 },
 "nbformat": 4,
 "nbformat_minor": 2
}
