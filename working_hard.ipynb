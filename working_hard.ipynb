{
 "cells": [
  {
   "cell_type": "markdown",
   "metadata": {},
   "source": [
    "Load Packages"
   ]
  },
  {
   "cell_type": "code",
   "execution_count": 1,
   "metadata": {},
   "outputs": [],
   "source": [
    "import pandas as pd\n",
    "import matplotlib.pyplot as plt\n",
    "import numpy as np\n",
    "import seaborn as sns"
   ]
  },
  {
   "cell_type": "markdown",
   "metadata": {},
   "source": [
    "Load Data"
   ]
  },
  {
   "cell_type": "code",
   "execution_count": 79,
   "metadata": {},
   "outputs": [
    {
     "data": {
      "text/html": [
       "<div>\n",
       "<style scoped>\n",
       "    .dataframe tbody tr th:only-of-type {\n",
       "        vertical-align: middle;\n",
       "    }\n",
       "\n",
       "    .dataframe tbody tr th {\n",
       "        vertical-align: top;\n",
       "    }\n",
       "\n",
       "    .dataframe thead th {\n",
       "        text-align: right;\n",
       "    }\n",
       "</style>\n",
       "<table border=\"1\" class=\"dataframe\">\n",
       "  <thead>\n",
       "    <tr style=\"text-align: right;\">\n",
       "      <th></th>\n",
       "      <th>ind_id</th>\n",
       "      <th>ind_definition</th>\n",
       "      <th>reportyear</th>\n",
       "      <th>race_eth_code</th>\n",
       "      <th>race_eth_name</th>\n",
       "      <th>geotype</th>\n",
       "      <th>geotypevalue</th>\n",
       "      <th>geoname</th>\n",
       "      <th>county_name</th>\n",
       "      <th>county_fips</th>\n",
       "      <th>...</th>\n",
       "      <th>median_income</th>\n",
       "      <th>affordability_ratio</th>\n",
       "      <th>LL95_affordability_ratio</th>\n",
       "      <th>UL95_affordability_ratio</th>\n",
       "      <th>se_food_afford</th>\n",
       "      <th>rse_food_afford</th>\n",
       "      <th>food_afford_decile</th>\n",
       "      <th>CA_RR_Affordability</th>\n",
       "      <th>ave_fam_size</th>\n",
       "      <th>version</th>\n",
       "    </tr>\n",
       "  </thead>\n",
       "  <tbody>\n",
       "    <tr>\n",
       "      <th>0</th>\n",
       "      <td>757</td>\n",
       "      <td>Food affordability for female-headed household...</td>\n",
       "      <td>2006-2010</td>\n",
       "      <td>1.0</td>\n",
       "      <td>AIAN</td>\n",
       "      <td>CA</td>\n",
       "      <td>6.0</td>\n",
       "      <td>California</td>\n",
       "      <td>NaN</td>\n",
       "      <td>NaN</td>\n",
       "      <td>...</td>\n",
       "      <td>23777.0</td>\n",
       "      <td>0.315779</td>\n",
       "      <td>0.231517</td>\n",
       "      <td>0.400043</td>\n",
       "      <td>0.042991</td>\n",
       "      <td>13.614342</td>\n",
       "      <td>NaN</td>\n",
       "      <td>1.185347</td>\n",
       "      <td>3.34</td>\n",
       "      <td>2013-04-12 04:33:06.235</td>\n",
       "    </tr>\n",
       "    <tr>\n",
       "      <th>1</th>\n",
       "      <td>757</td>\n",
       "      <td>Food affordability for female-headed household...</td>\n",
       "      <td>2006-2010</td>\n",
       "      <td>2.0</td>\n",
       "      <td>Asian</td>\n",
       "      <td>CA</td>\n",
       "      <td>6.0</td>\n",
       "      <td>California</td>\n",
       "      <td>NaN</td>\n",
       "      <td>NaN</td>\n",
       "      <td>...</td>\n",
       "      <td>38508.0</td>\n",
       "      <td>0.194980</td>\n",
       "      <td>0.183065</td>\n",
       "      <td>0.206895</td>\n",
       "      <td>0.006079</td>\n",
       "      <td>3.117814</td>\n",
       "      <td>NaN</td>\n",
       "      <td>0.731900</td>\n",
       "      <td>3.34</td>\n",
       "      <td>2013-04-12 04:33:06.235</td>\n",
       "    </tr>\n",
       "    <tr>\n",
       "      <th>2</th>\n",
       "      <td>757</td>\n",
       "      <td>Food affordability for female-headed household...</td>\n",
       "      <td>2006-2010</td>\n",
       "      <td>3.0</td>\n",
       "      <td>AfricanAm</td>\n",
       "      <td>CA</td>\n",
       "      <td>6.0</td>\n",
       "      <td>California</td>\n",
       "      <td>NaN</td>\n",
       "      <td>NaN</td>\n",
       "      <td>...</td>\n",
       "      <td>26192.0</td>\n",
       "      <td>0.286664</td>\n",
       "      <td>0.279661</td>\n",
       "      <td>0.293666</td>\n",
       "      <td>0.003573</td>\n",
       "      <td>1.246349</td>\n",
       "      <td>NaN</td>\n",
       "      <td>1.076054</td>\n",
       "      <td>3.34</td>\n",
       "      <td>2013-04-12 04:33:06.235</td>\n",
       "    </tr>\n",
       "    <tr>\n",
       "      <th>3</th>\n",
       "      <td>757</td>\n",
       "      <td>Food affordability for female-headed household...</td>\n",
       "      <td>2006-2010</td>\n",
       "      <td>4.0</td>\n",
       "      <td>Latino</td>\n",
       "      <td>CA</td>\n",
       "      <td>6.0</td>\n",
       "      <td>California</td>\n",
       "      <td>NaN</td>\n",
       "      <td>NaN</td>\n",
       "      <td>...</td>\n",
       "      <td>22858.0</td>\n",
       "      <td>0.328475</td>\n",
       "      <td>0.322637</td>\n",
       "      <td>0.334314</td>\n",
       "      <td>0.002979</td>\n",
       "      <td>0.906881</td>\n",
       "      <td>NaN</td>\n",
       "      <td>1.233004</td>\n",
       "      <td>3.34</td>\n",
       "      <td>2013-04-12 04:33:06.235</td>\n",
       "    </tr>\n",
       "    <tr>\n",
       "      <th>4</th>\n",
       "      <td>757</td>\n",
       "      <td>Food affordability for female-headed household...</td>\n",
       "      <td>2006-2010</td>\n",
       "      <td>5.0</td>\n",
       "      <td>NHOPI</td>\n",
       "      <td>CA</td>\n",
       "      <td>6.0</td>\n",
       "      <td>California</td>\n",
       "      <td>NaN</td>\n",
       "      <td>NaN</td>\n",
       "      <td>...</td>\n",
       "      <td>36737.0</td>\n",
       "      <td>0.204379</td>\n",
       "      <td>0.173762</td>\n",
       "      <td>0.234997</td>\n",
       "      <td>0.015621</td>\n",
       "      <td>7.643255</td>\n",
       "      <td>NaN</td>\n",
       "      <td>0.767183</td>\n",
       "      <td>3.34</td>\n",
       "      <td>2013-04-12 04:33:06.235</td>\n",
       "    </tr>\n",
       "  </tbody>\n",
       "</table>\n",
       "<p>5 rows × 23 columns</p>\n",
       "</div>"
      ],
      "text/plain": [
       "  ind_id                                     ind_definition reportyear  \\\n",
       "0    757  Food affordability for female-headed household...  2006-2010   \n",
       "1    757  Food affordability for female-headed household...  2006-2010   \n",
       "2    757  Food affordability for female-headed household...  2006-2010   \n",
       "3    757  Food affordability for female-headed household...  2006-2010   \n",
       "4    757  Food affordability for female-headed household...  2006-2010   \n",
       "\n",
       "   race_eth_code race_eth_name geotype  geotypevalue     geoname county_name  \\\n",
       "0            1.0          AIAN      CA           6.0  California         NaN   \n",
       "1            2.0         Asian      CA           6.0  California         NaN   \n",
       "2            3.0     AfricanAm      CA           6.0  California         NaN   \n",
       "3            4.0        Latino      CA           6.0  California         NaN   \n",
       "4            5.0         NHOPI      CA           6.0  California         NaN   \n",
       "\n",
       "   county_fips  ... median_income  affordability_ratio  \\\n",
       "0          NaN  ...       23777.0             0.315779   \n",
       "1          NaN  ...       38508.0             0.194980   \n",
       "2          NaN  ...       26192.0             0.286664   \n",
       "3          NaN  ...       22858.0             0.328475   \n",
       "4          NaN  ...       36737.0             0.204379   \n",
       "\n",
       "   LL95_affordability_ratio  UL95_affordability_ratio  se_food_afford  \\\n",
       "0                  0.231517                  0.400043        0.042991   \n",
       "1                  0.183065                  0.206895        0.006079   \n",
       "2                  0.279661                  0.293666        0.003573   \n",
       "3                  0.322637                  0.334314        0.002979   \n",
       "4                  0.173762                  0.234997        0.015621   \n",
       "\n",
       "   rse_food_afford  food_afford_decile  CA_RR_Affordability  ave_fam_size  \\\n",
       "0        13.614342                 NaN             1.185347          3.34   \n",
       "1         3.117814                 NaN             0.731900          3.34   \n",
       "2         1.246349                 NaN             1.076054          3.34   \n",
       "3         0.906881                 NaN             1.233004          3.34   \n",
       "4         7.643255                 NaN             0.767183          3.34   \n",
       "\n",
       "                  version  \n",
       "0 2013-04-12 04:33:06.235  \n",
       "1 2013-04-12 04:33:06.235  \n",
       "2 2013-04-12 04:33:06.235  \n",
       "3 2013-04-12 04:33:06.235  \n",
       "4 2013-04-12 04:33:06.235  \n",
       "\n",
       "[5 rows x 23 columns]"
      ]
     },
     "execution_count": 79,
     "metadata": {},
     "output_type": "execute_result"
    }
   ],
   "source": [
    "df = pd.read_excel('food_affordability.xls', sheet_name='Food_afford_cdp_co_region_ca')\n",
    "df.head(n = 5)\n"
   ]
  },
  {
   "cell_type": "markdown",
   "metadata": {},
   "source": [
    "# Feature Engineering"
   ]
  },
  {
   "cell_type": "code",
   "execution_count": 80,
   "metadata": {},
   "outputs": [],
   "source": [
    "# make factors \n",
    "df['region_code'] = df['region_code'].astype('category')\n",
    "df['race_eth_code'] = df['race_eth_code'].astype('category')\n",
    "df['geotypevalue'] = df['geotypevalue'].astype('category')\n",
    "df['county_fips'] = df['county_fips'].astype('category')"
   ]
  },
  {
   "cell_type": "markdown",
   "metadata": {},
   "source": [
    "Create features with zip code and lat/lon"
   ]
  },
  {
   "cell_type": "code",
   "execution_count": 81,
   "metadata": {},
   "outputs": [
    {
     "name": "stderr",
     "output_type": "stream",
     "text": [
      "/var/folders/8f/l9_yqvn54_ldh6kclbdcgvfh0000gn/T/ipykernel_6373/1792318513.py:17: SettingWithCopyWarning: \n",
      "A value is trying to be set on a copy of a slice from a DataFrame.\n",
      "Try using .loc[row_indexer,col_indexer] = value instead\n",
      "\n",
      "See the caveats in the documentation: https://pandas.pydata.org/pandas-docs/stable/user_guide/indexing.html#returning-a-view-versus-a-copy\n",
      "  features_to_join['county_name'] = features_to_join['primary_city']\n"
     ]
    }
   ],
   "source": [
    "all_zipcodes = pd.read_csv('zip_code_database.csv')\n",
    "\n",
    "counties = ['Alameda', 'Alpine', 'Amador', 'Butte', 'Calaveras', 'Colusa',\n",
    "       'Contra Costa', 'Del Norte', 'El Dorado', 'Fresno', 'Glenn',\n",
    "       'Humboldt', 'Imperial', 'Inyo', 'Kern', 'Kings', 'Lake', 'Lassen',\n",
    "       'Los Angeles', 'Madera', 'Marin', 'Mariposa', 'Mendocino',\n",
    "       'Merced', 'Modoc', 'Mono', 'Monterey', 'Napa', 'Nevada', 'Orange',\n",
    "       'Placer', 'Plumas', 'Riverside', 'Sacramento', 'San Benito',\n",
    "       'San Bernardino', 'San Diego', 'San Francisco', 'San Joaquin',\n",
    "       'San Luis Obispo', 'San Mateo', 'Santa Barbara', 'Santa Clara',\n",
    "       'Santa Cruz', 'Shasta', 'Sierra', 'Siskiyou', 'Solano', 'Sonoma',\n",
    "       'Stanislaus', 'Sutter', 'Tehama', 'Trinity', 'Tulare', 'Tuolumne',\n",
    "       'Ventura', 'Yolo', 'Yuba']\n",
    "\n",
    "city_zipcodes = all_zipcodes[all_zipcodes['primary_city'].isin(counties)]\n",
    "features_to_join = city_zipcodes[['latitude', 'longitude', 'primary_city']]\n",
    "features_to_join['county_name'] = features_to_join['primary_city']\n",
    "features_to_join = features_to_join.drop('primary_city', axis = 1)"
   ]
  },
  {
   "cell_type": "code",
   "execution_count": 82,
   "metadata": {},
   "outputs": [],
   "source": [
    "df = pd.merge(df, features_to_join, on = 'county_name', how = 'outer')"
   ]
  },
  {
   "cell_type": "code",
   "execution_count": 83,
   "metadata": {},
   "outputs": [],
   "source": [
    "numeric_predictors = df.select_dtypes(include=['number']).drop('affordability_ratio', axis = 1) # df\n",
    "numeric_predictors = numeric_predictors.drop(numeric_predictors.filter(regex='^is').columns, axis=1)\n",
    "numeric_predictors = numeric_predictors.drop(columns = 'CA_RR_Affordability')\n",
    "num_pred_names = numeric_predictors.columns\n",
    "\n",
    "categorical_predictors = df.select_dtypes(include=['object', 'category']) # df\n",
    "dummy_vars = df.filter(regex='^is')  # assuming dummy variables start with \"is\"\n",
    "categorical_predictors = pd.concat([categorical_predictors, dummy_vars], axis=1)\n",
    "cat_pred_names = categorical_predictors.columns"
   ]
  },
  {
   "cell_type": "code",
   "execution_count": 84,
   "metadata": {},
   "outputs": [],
   "source": [
    "# consistent types for numeric columns\n",
    "df[num_pred_names] = df[num_pred_names].apply(pd.to_numeric, errors='coerce')\n",
    "\n",
    "# consistent types for categorical columns\n",
    "df[cat_pred_names] = df[cat_pred_names].astype(str)\n"
   ]
  },
  {
   "cell_type": "markdown",
   "metadata": {},
   "source": [
    "### Final dataframe to csv"
   ]
  },
  {
   "cell_type": "code",
   "execution_count": 85,
   "metadata": {},
   "outputs": [],
   "source": [
    "df['affordability_ratio'] = df['affordability_ratio'].fillna(df['affordability_ratio'].mean())"
   ]
  },
  {
   "cell_type": "code",
   "execution_count": 86,
   "metadata": {},
   "outputs": [],
   "source": [
    "df.to_csv('final_data.csv', index = False)"
   ]
  },
  {
   "cell_type": "markdown",
   "metadata": {},
   "source": [
    "# Supervised Machine Learning Models"
   ]
  },
  {
   "cell_type": "code",
   "execution_count": 9,
   "metadata": {},
   "outputs": [],
   "source": [
    "from sklearn.linear_model import Lasso\n",
    "from sklearn.neighbors import KNeighborsRegressor\n",
    "from sklearn.model_selection import train_test_split\n",
    "from sklearn.pipeline import Pipeline\n",
    "from sklearn.linear_model import LinearRegression\n",
    "from sklearn.preprocessing import StandardScaler\n",
    "from sklearn.preprocessing import PolynomialFeatures\n",
    "from sklearn.metrics import mean_squared_error\n",
    "from sklearn.model_selection import GridSearchCV\n",
    "from sklearn.impute import SimpleImputer\n",
    "from sklearn.linear_model import Lasso\n",
    "from sklearn.neighbors import KNeighborsRegressor\n",
    "from sklearn.model_selection import train_test_split\n",
    "from sklearn.pipeline import Pipeline\n",
    "from sklearn.preprocessing import OneHotEncoder\n",
    "from sklearn.feature_selection import SelectPercentile, f_regression\n",
    "from sklearn.compose import ColumnTransformer"
   ]
  },
  {
   "cell_type": "markdown",
   "metadata": {},
   "source": [
    "### Data Preparation"
   ]
  },
  {
   "cell_type": "code",
   "execution_count": 87,
   "metadata": {},
   "outputs": [],
   "source": [
    "target_variable = df['affordability_ratio'] # Series\n",
    "\n",
    "X = df.drop(columns = ['affordability_ratio', 'version'])\n",
    "y = df['affordability_ratio']\n"
   ]
  },
  {
   "cell_type": "code",
   "execution_count": 102,
   "metadata": {},
   "outputs": [],
   "source": [
    "X_train, X_test, y_train, y_test = train_test_split(X, y, random_state=307)\n",
    "X_train = X_train.drop(columns=['CA_RR_Affordability'])\n",
    "X_test = X_test.drop(columns=['CA_RR_Affordability'])\n",
    "\n",
    "\n",
    "numeric_transformer = Pipeline(steps=[\n",
    "    \n",
    "    ('imputer', SimpleImputer(strategy='mean')),  \n",
    "    ('poly', PolynomialFeatures(include_bias=False)),\n",
    "    ('scaler', StandardScaler())                  \n",
    "])\n",
    "\n",
    "categorical_transformer = Pipeline(steps=[\n",
    "    ('imputer', SimpleImputer(strategy='most_frequent')),  \n",
    "    ('onehot', OneHotEncoder(handle_unknown='ignore')),\n",
    "    ('filtering', SelectPercentile(f_regression, percentile=50))     \n",
    "])\n",
    "\n",
    "\n",
    "preprocessor = ColumnTransformer(\n",
    "    transformers=[\n",
    "        ('num', numeric_transformer, num_pred_names),      \n",
    "        ('cat', categorical_transformer, cat_pred_names)  \n",
    "    ])\n",
    "\n"
   ]
  },
  {
   "cell_type": "code",
   "execution_count": 107,
   "metadata": {},
   "outputs": [],
   "source": [
    "# may need to use samples for testing out some models\n",
    "X_train_sample = X_train.sample(n=50000, random_state=42)\n",
    "y_train_sample = y_train.loc[X_train_sample.index]\n",
    "\n",
    "# scaling response\n",
    "from sklearn.preprocessing import StandardScaler\n",
    "scaler = StandardScaler()\n",
    "y_train_scaled = scaler.fit_transform(y_train_sample.values.reshape(-1, 1))\n",
    "y_test_scaled = scaler.transform(y_test.values.reshape(-1, 1))\n"
   ]
  },
  {
   "cell_type": "code",
   "execution_count": 108,
   "metadata": {},
   "outputs": [
    {
     "name": "stdout",
     "output_type": "stream",
     "text": [
      "UL95_affordability_ratio    0.411894\n",
      "se_food_afford              0.359404\n",
      "rse_food_afford             0.279099\n",
      "LL95_affordability_ratio    0.235160\n",
      "cost_yr                     0.087981\n",
      "ave_fam_size                0.085187\n",
      "latitude                    0.030613\n",
      "longitude                   0.002389\n",
      "median_income              -0.420331\n",
      "food_afford_decile         -0.645867\n",
      "dtype: float64\n"
     ]
    }
   ],
   "source": [
    "numeric_X_train = X_train_sample.select_dtypes(include=['number'])\n",
    "corr = numeric_X_train.corrwith(y_train_sample)\n",
    "print(corr.sort_values(ascending=False))"
   ]
  },
  {
   "cell_type": "markdown",
   "metadata": {},
   "source": [
    "### KNeighbors Regressor"
   ]
  },
  {
   "cell_type": "code",
   "execution_count": 110,
   "metadata": {},
   "outputs": [
    {
     "name": "stdout",
     "output_type": "stream",
     "text": [
      "0.001171090354606615\n"
     ]
    }
   ],
   "source": [
    "# sample KNN Regressor\n",
    "\n",
    "pipe = Pipeline(steps=[\n",
    "    ('preprocessor', preprocessor),\n",
    "    ('model', KNeighborsRegressor(n_neighbors=5, weights='distance'))  \n",
    "])\n",
    "pipe.fit(X_train_sample, y_train_sample)\n",
    "y_test_pred = pipe.predict(X_test)\n",
    "test_mse = mean_squared_error(y_test, y_test_pred)\n",
    "print(test_mse)"
   ]
  },
  {
   "cell_type": "markdown",
   "metadata": {},
   "source": [
    "### Linear Regression"
   ]
  },
  {
   "cell_type": "code",
   "execution_count": 109,
   "metadata": {},
   "outputs": [
    {
     "name": "stderr",
     "output_type": "stream",
     "text": [
      "/Users/madisonwozniak/miniconda3/envs/stat486/lib/python3.10/site-packages/sklearn/utils/validation.py:1339: DataConversionWarning: A column-vector y was passed when a 1d array was expected. Please change the shape of y to (n_samples, ), for example using ravel().\n",
      "  y = column_or_1d(y, warn=True)\n"
     ]
    },
    {
     "name": "stdout",
     "output_type": "stream",
     "text": [
      "0.13353550674687673\n"
     ]
    }
   ],
   "source": [
    "# sample Linear Regression\n",
    "\n",
    "pipe = Pipeline(steps=[\n",
    "    ('preprocessor', preprocessor),\n",
    "    ('model', LinearRegression())  \n",
    "])\n",
    "pipe.fit(X_train_sample, y_train_scaled)\n",
    "y_test_pred = pipe.predict(X_test)\n",
    "test_mse = mean_squared_error(y_test_scaled, y_test_pred)\n",
    "print(test_mse)\n"
   ]
  },
  {
   "cell_type": "code",
   "execution_count": 100,
   "metadata": {},
   "outputs": [
    {
     "name": "stderr",
     "output_type": "stream",
     "text": [
      "/Users/madisonwozniak/miniconda3/envs/stat486/lib/python3.10/site-packages/sklearn/feature_selection/_univariate_selection.py:379: RuntimeWarning: invalid value encountered in sqrt\n",
      "  X_norms = np.sqrt(row_norms(X.T, squared=True) - n_samples * X_means**2)\n"
     ]
    },
    {
     "name": "stdout",
     "output_type": "stream",
     "text": [
      "Average MSE: 0.012752894738311074\n"
     ]
    }
   ],
   "source": [
    "# evaluate model using cross-validation\n",
    "from sklearn.model_selection import cross_val_score\n",
    "scores = cross_val_score(pipe, X_train_sample, y_train_sample, scoring='neg_mean_squared_error', cv=5)\n",
    "print(f\"Average MSE: {-scores.mean()}\")"
   ]
  },
  {
   "cell_type": "markdown",
   "metadata": {},
   "source": [
    "### Decision Trees/Random Forests"
   ]
  },
  {
   "cell_type": "code",
   "execution_count": null,
   "metadata": {},
   "outputs": [],
   "source": [
    "from sklearn.tree import DecisionTreeClassifier\n",
    "clf = DecisionTreeClassifier(criterion='entropy', max_depth=2)\n",
    "path = clf.cost_complexity_pruning_path(X_train_sample, y_train_sample)\n",
    "ccp_alphas, impurities = path.ccp_alphas, path.impurities\n",
    "\n",
    "ccp_alpha_scores = []\n",
    "for ccp_alpha in ccp_alphas:\n",
    "    clf = DecisionTreeClassifier(random_state=42, ccp_alpha=ccp_alpha)\n",
    "    scores = cross_val_score(clf, X_train_sample, y_train_sample, cv=5)\n",
    "    ccp_alpha_scores.append((ccp_alpha, scores.mean()))\n",
    "\n",
    "best_ccp_alpha = max(ccp_alpha_scores, key=lambda x: x[1])[0]\n",
    "\n",
    "tree_best = DecisionTreeClassifier(random_state=42, ccp_alpha=best_ccp_alpha)\n",
    "tree_best.fit(X_train_sample, y_train_sample)\n",
    "train_score = tree_best.score(X_train_sample, y_train_sample)\n",
    "test_score = tree_best.score(X_test, y_test)\n",
    "\n",
    "print(f\"Best ccp_alpha: {best_ccp_alpha}\")\n",
    "print(f\"Training accuracy: {train_score}\")\n",
    "print(f\"Test accuracy: {test_score}\")"
   ]
  },
  {
   "cell_type": "markdown",
   "metadata": {},
   "source": [
    "Gradient Boosting (XGBoost, LightGBM)"
   ]
  },
  {
   "cell_type": "code",
   "execution_count": null,
   "metadata": {},
   "outputs": [],
   "source": []
  },
  {
   "cell_type": "markdown",
   "metadata": {},
   "source": [
    "# Deep Learning Model with Hyperparam. Optimization"
   ]
  },
  {
   "cell_type": "code",
   "execution_count": null,
   "metadata": {},
   "outputs": [],
   "source": []
  },
  {
   "cell_type": "markdown",
   "metadata": {},
   "source": [
    "# Anomaly Detection or Cluster Analysis"
   ]
  },
  {
   "cell_type": "code",
   "execution_count": null,
   "metadata": {},
   "outputs": [],
   "source": []
  },
  {
   "cell_type": "markdown",
   "metadata": {},
   "source": [
    "# Dimension Reduction "
   ]
  },
  {
   "cell_type": "code",
   "execution_count": null,
   "metadata": {},
   "outputs": [],
   "source": []
  },
  {
   "cell_type": "markdown",
   "metadata": {},
   "source": [
    "# SHAP for Feature Importance"
   ]
  },
  {
   "cell_type": "code",
   "execution_count": null,
   "metadata": {},
   "outputs": [],
   "source": []
  }
 ],
 "metadata": {
  "kernelspec": {
   "display_name": "stat486",
   "language": "python",
   "name": "python3"
  },
  "language_info": {
   "codemirror_mode": {
    "name": "ipython",
    "version": 3
   },
   "file_extension": ".py",
   "mimetype": "text/x-python",
   "name": "python",
   "nbconvert_exporter": "python",
   "pygments_lexer": "ipython3",
   "version": "3.10.13"
  }
 },
 "nbformat": 4,
 "nbformat_minor": 2
}
